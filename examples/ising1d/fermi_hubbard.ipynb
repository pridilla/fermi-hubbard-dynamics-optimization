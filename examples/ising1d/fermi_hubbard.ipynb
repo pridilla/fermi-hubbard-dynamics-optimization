{
 "cells": [
  {
   "cell_type": "code",
   "execution_count": 5,
   "metadata": {},
   "outputs": [
    {
     "data": {
      "text/plain": [
       "array([ 0,  6,  1,  7,  2,  8,  3,  9,  4, 10,  5, 11])"
      ]
     },
     "execution_count": 5,
     "metadata": {},
     "output_type": "execute_result"
    }
   ],
   "source": [
    "import numpy as np\n",
    "\n",
    "L = 6\n",
    "vert_sites = np.array([[i, i + L] for i in range(L)]).flatten()\n",
    "vert_sites"
   ]
  }
 ],
 "metadata": {
  "kernelspec": {
   "display_name": "cdlm",
   "language": "python",
   "name": "python3"
  },
  "language_info": {
   "codemirror_mode": {
    "name": "ipython",
    "version": 3
   },
   "file_extension": ".py",
   "mimetype": "text/x-python",
   "name": "python",
   "nbconvert_exporter": "python",
   "pygments_lexer": "ipython3",
   "version": "3.9.15"
  },
  "orig_nbformat": 4
 },
 "nbformat": 4,
 "nbformat_minor": 2
}
